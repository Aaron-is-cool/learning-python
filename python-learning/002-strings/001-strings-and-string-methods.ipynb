{
 "cells": [
  {
   "cell_type": "markdown",
   "metadata": {},
   "source": [
    "#### A string is the text in python using `\" \"` or `' '`\n",
    "We can use the function `type()` to check the type"
   ]
  },
  {
   "cell_type": "code",
   "execution_count": 2,
   "metadata": {},
   "outputs": [
    {
     "data": {
      "text/plain": [
       "str"
      ]
     },
     "execution_count": 2,
     "metadata": {},
     "output_type": "execute_result"
    }
   ],
   "source": [
    "type(\"Hello, World\")"
   ]
  },
  {
   "cell_type": "markdown",
   "metadata": {},
   "source": [
    "You have to use the same quotations\n",
    "You can't use `' \"` or `\" '` otherwise this happeneds"
   ]
  },
  {
   "cell_type": "code",
   "execution_count": 3,
   "metadata": {},
   "outputs": [
    {
     "ename": "SyntaxError",
     "evalue": "unterminated string literal (detected at line 1) (1406411835.py, line 1)",
     "output_type": "error",
     "traceback": [
      "  \u001b[36mCell\u001b[39m\u001b[36m \u001b[39m\u001b[32mIn[3]\u001b[39m\u001b[32m, line 1\u001b[39m\n\u001b[31m    \u001b[39m\u001b[31mgreeting = 'Hi\"\u001b[39m\n               ^\n\u001b[31mSyntaxError\u001b[39m\u001b[31m:\u001b[39m unterminated string literal (detected at line 1)\n"
     ]
    }
   ],
   "source": [
    "greeting = 'Hi\""
   ]
  },
  {
   "cell_type": "markdown",
   "metadata": {},
   "source": [
    "To print a long paragraph just use the `''' '''` quotations"
   ]
  },
  {
   "cell_type": "code",
   "execution_count": 4,
   "metadata": {},
   "outputs": [
    {
     "name": "stdout",
     "output_type": "stream",
     "text": [
      "When crafting responses, it is essential to adhere strictly to the designated language without incorporating any others. \n",
      "Additionally, consider any specified modifiers relevant to the query while formulating your answer. \n",
      "Ensure that the response is structured in paragraphs, avoiding list formats. If multiple paragraphs are necessary, label them with incrementing numbers, but maintain conciseness and clarity throughout. \n",
      "Responses should be composed solely in English, without deviation into other languages. \n"
     ]
    }
   ],
   "source": [
    "paragraph = '''When crafting responses, it is essential to adhere strictly to the designated language without incorporating any others. \n",
    "Additionally, consider any specified modifiers relevant to the query while formulating your answer. \n",
    "Ensure that the response is structured in paragraphs, avoiding list formats. If multiple paragraphs are necessary, label them with incrementing numbers, but maintain conciseness and clarity throughout. \n",
    "Responses should be composed solely in English, without deviation into other languages. '''\n",
    "\n",
    "print(paragraph)"
   ]
  }
 ],
 "metadata": {
  "kernelspec": {
   "display_name": "3.12.3",
   "language": "python",
   "name": "python3"
  },
  "language_info": {
   "codemirror_mode": {
    "name": "ipython",
    "version": 3
   },
   "file_extension": ".py",
   "mimetype": "text/x-python",
   "name": "python",
   "nbconvert_exporter": "python",
   "pygments_lexer": "ipython3",
   "version": "3.12.3"
  }
 },
 "nbformat": 4,
 "nbformat_minor": 2
}
