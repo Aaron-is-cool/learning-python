{
 "cells": [
  {
   "cell_type": "markdown",
   "metadata": {
    "vscode": {
     "languageId": "plaintext"
    }
   },
   "source": [
    "# Variables are fundamental to programing for two reasons:\n",
    "### Variables keep values accesible\n",
    "### Variables give values context"
   ]
  },
  {
   "cell_type": "markdown",
   "metadata": {},
   "source": [
    "The Assignment Operator assign variables a value using the special symbol `=`"
   ]
  },
  {
   "cell_type": "code",
   "execution_count": 3,
   "metadata": {},
   "outputs": [
    {
     "name": "stdout",
     "output_type": "stream",
     "text": [
      "Hello, World\n"
     ]
    }
   ],
   "source": [
    "greeting = \"Hello, World\"\n",
    "\n",
    "print(greeting)"
   ]
  },
  {
   "cell_type": "markdown",
   "metadata": {},
   "source": [
    "### Rules for making variables:\n",
    "1. They can contain uppercase and lowercase letters (`A-Z, a-z`) e.g. `Greeting`\n",
    "2. They can contain Digits (`0-9`) e.g. `alpha_test1`\n",
    "3. They can contain underscores (`_`) e.g. `list_of_names`\n",
    "4. They cannot begin with a digit e.g. `1olives`"
   ]
  },
  {
   "cell_type": "markdown",
   "metadata": {},
   "source": [
    "Descriptive names are better than short ones"
   ]
  },
  {
   "cell_type": "code",
   "execution_count": 4,
   "metadata": {},
   "outputs": [
    {
     "name": "stdout",
     "output_type": "stream",
     "text": [
      "3600\n",
      "3600\n",
      "3600\n"
     ]
    }
   ],
   "source": [
    "s = 3600\n",
    "seconds = 3600\n",
    "seconds_per_hour = 3600\n",
    "\n",
    "print(s)\n",
    "print(seconds)\n",
    "print(seconds_per_hour)\n"
   ]
  }
 ],
 "metadata": {
  "kernelspec": {
   "display_name": "3.12.3",
   "language": "python",
   "name": "python3"
  },
  "language_info": {
   "codemirror_mode": {
    "name": "ipython",
    "version": 3
   },
   "file_extension": ".py",
   "mimetype": "text/x-python",
   "name": "python",
   "nbconvert_exporter": "python",
   "pygments_lexer": "ipython3",
   "version": "3.12.3"
  }
 },
 "nbformat": 4,
 "nbformat_minor": 2
}
